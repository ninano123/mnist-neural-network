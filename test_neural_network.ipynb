{
 "cells": [
  {
   "cell_type": "code",
   "execution_count": 1,
   "metadata": {},
   "outputs": [],
   "source": [
    "#NeuralNetwork define\n",
    "class neuralNetwork:\n",
    "    \n",
    "    #init NeuralNetwork\n",
    "    def __init__(self, inputnodes, hiddennodes, outputnodes, learningrate):\n",
    "        #set node number of ipnut / hidden / output layer\n",
    "        self.inodes = inputnodes\n",
    "        self.hnodes = hiddennodes\n",
    "        self.onodes = outputnodes\n",
    "        #select sigmoid function to activation function\n",
    "        self.activation_function = lambda x: scipy.special.expit(x)\n",
    "            \n",
    "        #learning rate\n",
    "        self.lr = learningrate\n",
    "        \n",
    "        #wih, who are matrix of weight\n",
    "        #weight is discribe like w_i_j\n",
    "        self.wih = np.random.normal(0.0, pow(self.hnodes, -0.5), (self.hnodes, self.inodes))\n",
    "        self.who = np.random.normal(0.0, pow(self.onodes, -0.5), (self.onodes, self.hnodes))\n",
    "        \n",
    "\n",
    "        pass\n",
    "    \n",
    "    #train NeuralNetwork\n",
    "    def train(self, inputs_list, targets_list):\n",
    "        #transmit input_list matrix \n",
    "        inputs = np.array(inputs_lists, ndmin=2).T\n",
    "        targets = np.array(targets_list, ndmin=2).T\n",
    "        \n",
    "        #calculate input/output for hidden layer\n",
    "        hidden_inputs = np.dot(self.wih, inputs)\n",
    "        hidden_outputs = self.activation_function(hidden_inputs)\n",
    "        \n",
    "        #calculate input/output for final layer\n",
    "        final_inputs = numpy.dot(self.who, hidden_outputs)\n",
    "        final_outputs = self.activation_function(final_inputs)\n",
    "        \n",
    "        #error\n",
    "        output_errors = targets - final_outputs\n",
    "        hidden_errors = np.dot(self.who.T, output_errors)\n",
    "        \n",
    "        #weight update between hidden / final layer\n",
    "        self.who += self.lr * np.dot((output_errors * final_outputs * (1.0- final_outputs)), np,transpose(hidden_outputs))\n",
    "        #weight update between input / hidden layer\n",
    "        self.wih += self.lr * np.dot((hidden_errors * hidden_outputs * (1.0- hidden_outputs)), np,transpose(inputs))\n",
    "        \n",
    "        pass\n",
    "    \n",
    "    #query NeuralNetwork\n",
    "    def query(self, inputs_list):\n",
    "        inputs = np.array(inputs_list, ndmin=2).T\n",
    "        \n",
    "        #input / output for hidden layer\n",
    "        hidden_inputs = np.dot(self.wih, inputs)\n",
    "        hidden_ouputs = self.activation_function(hidden_inputs)\n",
    "        \n",
    "        #input / output for final layer\n",
    "        final_inputs = np.dot(self.who, hidden_ouputs)\n",
    "        final_outputs = self.activation_function(final_inputs)\n",
    "        \n",
    "        return final_outputs\n",
    "        pass"
   ]
  },
  {
   "cell_type": "code",
   "execution_count": 2,
   "metadata": {},
   "outputs": [],
   "source": [
    "import numpy as np\n",
    "import matplotlib.pyplot as plt\n",
    "import scipy.special\n",
    "\n",
    "#number of input / hidden / output nodes\n",
    "input_nodes = 3\n",
    "hidden_nodes = 3\n",
    "output_nodes = 3\n",
    "\n",
    "#learning rate is 0.3\n",
    "learning_rate = 0.3\n",
    "\n",
    "#create instance of neural network\n",
    "n = neuralNetwork(input_nodes,\n",
    "                 hidden_nodes,\n",
    "                 output_nodes,\n",
    "                 learning_rate)\n"
   ]
  },
  {
   "cell_type": "code",
   "execution_count": 3,
   "metadata": {},
   "outputs": [
    {
     "data": {
      "text/plain": [
       "array([[0.46818807],\n",
       "       [0.37005715],\n",
       "       [0.70759359]])"
      ]
     },
     "execution_count": 3,
     "metadata": {},
     "output_type": "execute_result"
    }
   ],
   "source": [
    "n.query([1.0,0.5,-1.5])"
   ]
  },
  {
   "cell_type": "code",
   "execution_count": null,
   "metadata": {},
   "outputs": [],
   "source": []
  }
 ],
 "metadata": {
  "kernelspec": {
   "display_name": "Python 3",
   "language": "python",
   "name": "python3"
  },
  "language_info": {
   "codemirror_mode": {
    "name": "ipython",
    "version": 3
   },
   "file_extension": ".py",
   "mimetype": "text/x-python",
   "name": "python",
   "nbconvert_exporter": "python",
   "pygments_lexer": "ipython3",
   "version": "3.7.4"
  }
 },
 "nbformat": 4,
 "nbformat_minor": 2
}
