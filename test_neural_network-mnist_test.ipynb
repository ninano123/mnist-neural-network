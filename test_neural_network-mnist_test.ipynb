{
 "cells": [
  {
   "cell_type": "code",
   "execution_count": 1,
   "metadata": {},
   "outputs": [],
   "source": [
    "#NeuralNetwork define\n",
    "class neuralNetwork:\n",
    "    \n",
    "    #init NeuralNetwork\n",
    "    def __init__(self, inputnodes, hiddennodes, outputnodes, learningrate):\n",
    "        #set node number of ipnut / hidden / output layer\n",
    "        self.inodes = inputnodes\n",
    "        self.hnodes = hiddennodes\n",
    "        self.onodes = outputnodes\n",
    "        #select sigmoid function to activation function\n",
    "        self.activation_function = lambda x: scipy.special.expit(x)\n",
    "            \n",
    "        #learning rate\n",
    "        self.lr = learningrate\n",
    "        \n",
    "        #wih, who are matrix of weight\n",
    "        #weight is discribe like w_i_j\n",
    "        self.wih = np.random.normal(0.0, pow(self.hnodes, -0.5), (self.hnodes, self.inodes))\n",
    "        self.who = np.random.normal(0.0, pow(self.onodes, -0.5), (self.onodes, self.hnodes))\n",
    "        \n",
    "\n",
    "        pass\n",
    "    \n",
    "    #train NeuralNetwork\n",
    "    def train(self, inputs_list, targets_list):\n",
    "        #transmit input_list matrix \n",
    "        inputs = np.array(inputs_list, ndmin=2).T\n",
    "        targets = np.array(targets_list, ndmin=2).T\n",
    "        \n",
    "        #calculate input/output for hidden layer\n",
    "        hidden_inputs = np.dot(self.wih, inputs)\n",
    "        hidden_outputs = self.activation_function(hidden_inputs)\n",
    "        \n",
    "        #calculate input/output for final layer\n",
    "        final_inputs = np.dot(self.who, hidden_outputs)\n",
    "        final_outputs = self.activation_function(final_inputs)\n",
    "        \n",
    "        #error\n",
    "        output_errors = targets - final_outputs\n",
    "        hidden_errors = np.dot(self.who.T, output_errors)\n",
    "        \n",
    "        #weight update between hidden / final layer\n",
    "        self.who += self.lr * np.dot((output_errors * final_outputs * (1.0- final_outputs)), np.transpose(hidden_outputs))\n",
    "        #weight update between input / hidden layer\n",
    "        self.wih += self.lr * np.dot((hidden_errors * hidden_outputs * (1.0- hidden_outputs)), np.transpose(inputs))\n",
    "        \n",
    "        pass\n",
    "    \n",
    "    #query NeuralNetwork\n",
    "    def query(self, inputs_list):\n",
    "        inputs = np.array(inputs_list, ndmin=2).T\n",
    "        \n",
    "        #input / output for hidden layer\n",
    "        hidden_inputs = np.dot(self.wih, inputs)\n",
    "        hidden_ouputs = self.activation_function(hidden_inputs)\n",
    "        \n",
    "        #input / output for final layer\n",
    "        final_inputs = np.dot(self.who, hidden_ouputs)\n",
    "        final_outputs = self.activation_function(final_inputs)\n",
    "        \n",
    "        return final_outputs\n",
    "        pass"
   ]
  },
  {
   "cell_type": "code",
   "execution_count": 2,
   "metadata": {},
   "outputs": [],
   "source": [
    "import numpy as np\n",
    "import matplotlib.pyplot as plt\n",
    "import scipy.special\n",
    "\n",
    "#number of input / hidden / output nodes\n",
    "input_nodes = 784\n",
    "hidden_nodes = 100\n",
    "output_nodes = 10\n",
    "\n",
    "#learning rate is 0.3\n",
    "learning_rate = 0.3\n",
    "\n",
    "#create instance of neural network\n",
    "n = neuralNetwork(input_nodes,\n",
    "                 hidden_nodes,\n",
    "                 output_nodes,\n",
    "                 learning_rate)\n"
   ]
  },
  {
   "cell_type": "code",
   "execution_count": 3,
   "metadata": {},
   "outputs": [],
   "source": [
    "#import csv file_mnist_dataset for training NeuralNetwork\n",
    "training_data_file = open(\"mnist_dataset/mnist_train_100.csv\",'r')\n",
    "training_data_list = training_data_file.readlines()\n",
    "training_data_file.close()\n",
    "\n",
    "#training Neural Network\n",
    "\n",
    "#detect all record in training_data_set\n",
    "for record in training_data_list:\n",
    "    all_values = record.split(',')\n",
    "    inputs = (np.asfarray(all_values[1:]) / 255 *0.09) +0.01\n",
    "    targets = np.zeros(output_nodes) +0.01\n",
    "    targets[int(all_values[0])] = 0.99\n",
    "    n.train(inputs, targets)\n",
    "    pass"
   ]
  },
  {
   "cell_type": "code",
   "execution_count": 4,
   "metadata": {},
   "outputs": [
    {
     "name": "stdout",
     "output_type": "stream",
     "text": [
      "[[0.11445744]\n",
      " [0.10919917]\n",
      " [0.04795632]\n",
      " [0.10036618]\n",
      " [0.08366449]\n",
      " [0.04568783]\n",
      " [0.09775223]\n",
      " [0.14710121]\n",
      " [0.11263303]\n",
      " [0.07176763]]\n",
      "network answer is  7\n",
      "correct label is  7\n"
     ]
    },
    {
     "data": {
      "image/png": "[encoded data removed]",
      "text/plain": [
       "<Figure size 432x288 with 1 Axes>"
      ]
     },
     "metadata": {
      "needs_background": "light"
     },
     "output_type": "display_data"
    }
   ],
   "source": [
    "#test neural network\n",
    "\n",
    "#import test minist data set\n",
    "test_data_file = open(\"mnist_dataset/mnist_test_10.csv\",'r')\n",
    "test_data_list = test_data_file.readlines()\n",
    "test_data_file.close()\n",
    "\n",
    "all_values = test_data_list[0].split(',')\n",
    "image_arrays = np.asfarray(all_values[1:]).reshape((28,28))\n",
    "plt.imshow(image_arrays, cmap='Greys', interpolation='None')\n",
    "\n",
    "inputs = (np.asfarray(all_values[1:]) / 255 *0.09) +0.01\n",
    "network_answer = n.query(inputs)\n",
    "\n",
    "print(network_answer)\n",
    "ans_label = np.argmax(network_answer)\n",
    "print(\"network answer is \", ans_label)\n",
    "print(\"correct label is \", test_data_list[0][0])"
   ]
  },
  {
   "cell_type": "code",
   "execution_count": 42,
   "metadata": {},
   "outputs": [],
   "source": [
    "def Formulate_input_for_query(test_data_line, num=0, image_on=False):\n",
    "    \n",
    "    all_values = test_data_line[num].split(',')\n",
    "    \n",
    "    image_arrays = np.asfarray(all_values[1:]).reshape((28,28))\n",
    "    if (image_on):\n",
    "        plt.imshow(image_arrays, cmap='Greys', interpolation='None')\n",
    "    print(\"correct label is \", test_data_list[num][0])\n",
    "    \n",
    "    inputs = (np.asfarray(all_values[1:]) / 255 *0.09) +0.01\n",
    "    return inputs, int(test_data_list[num][0])"
   ]
  },
  {
   "cell_type": "code",
   "execution_count": 43,
   "metadata": {},
   "outputs": [
    {
     "name": "stdout",
     "output_type": "stream",
     "text": [
      "correct label is  9\n",
      "network answer is  7\n"
     ]
    }
   ],
   "source": [
    "test_data_file = open(\"mnist_dataset/mnist_test_10.csv\",'r')\n",
    "test_data_list = test_data_file.readlines()\n",
    "test_data_file.close()\n",
    "\n",
    "test_inputs,ans = Formulate_input_for_query(test_data_list,9)\n",
    "network_answer = n.query(test_inputs)\n",
    "ans_label = np.argmax(network_answer)\n",
    "print(\"network answer is \", ans_label)"
   ]
  },
  {
   "cell_type": "code",
   "execution_count": 49,
   "metadata": {
    "scrolled": true
   },
   "outputs": [
    {
     "name": "stdout",
     "output_type": "stream",
     "text": [
      "correct label is  7\n",
      "network answer is  7\n",
      "correct label is  2\n",
      "network answer is  1\n",
      "correct label is  1\n",
      "network answer is  1\n",
      "correct label is  0\n",
      "network answer is  0\n",
      "correct label is  4\n",
      "network answer is  7\n",
      "correct label is  1\n",
      "network answer is  1\n",
      "correct label is  4\n",
      "network answer is  7\n",
      "correct label is  9\n",
      "network answer is  7\n",
      "correct label is  5\n",
      "network answer is  1\n",
      "correct label is  9\n",
      "network answer is  7\n",
      "[1, 0, 1, 1, 0, 1, 0, 0, 0, 0]\n",
      "4 correct in 10 try \n",
      "====> 40 persentage rate\n"
     ]
    }
   ],
   "source": [
    "#real test\n",
    "test_data_file = open(\"mnist_dataset/mnist_test_10.csv\",'r')\n",
    "test_data_list = test_data_file.readlines()\n",
    "test_data_file.close()\n",
    "\n",
    "#score of performance\n",
    "scorecard = []\n",
    "ans_rate = 0\n",
    "for nst_data in range(10):\n",
    "    test_inputs, correct_answer = Formulate_input_for_query(test_data_list,nst_data)\n",
    "    network_answer = n.query(test_inputs)\n",
    "    ans_label = np.argmax(network_answer)\n",
    "    print(\"network answer is \", ans_label)\n",
    "    if (ans_label == correct_answer):\n",
    "        scorecard.append(1)\n",
    "    else:\n",
    "        scorecard.append(0)\n",
    "print(scorecard)\n",
    "scorecard_array = np.array(scorecard)\n",
    "ans_rate = int(scorecard_array.sum() / scorecard_array.size *100)\n",
    "print(\"%d correct in %d try \\n====> %d persentage rate\"%(scorecard_array.sum(), scorecard_array.size, ans_rate))"
   ]
  },
  {
   "cell_type": "code",
   "execution_count": null,
   "metadata": {},
   "outputs": [],
   "source": []
  }
 ],
 "metadata": {
  "kernelspec": {
   "display_name": "Python 3",
   "language": "python",
   "name": "python3"
  },
  "language_info": {
   "codemirror_mode": {
    "name": "ipython",
    "version": 3
   },
   "file_extension": ".py",
   "mimetype": "text/x-python",
   "name": "python",
   "nbconvert_exporter": "python",
   "pygments_lexer": "ipython3",
   "version": "3.7.4"
  }
 },
 "nbformat": 4,
 "nbformat_minor": 2
}
